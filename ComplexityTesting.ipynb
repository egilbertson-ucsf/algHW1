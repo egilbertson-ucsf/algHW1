{
 "cells": [
  {
   "cell_type": "markdown",
   "metadata": {},
   "source": [
    "# Imports"
   ]
  },
  {
   "cell_type": "code",
   "execution_count": 1,
   "metadata": {},
   "outputs": [],
   "source": [
    "import scripts.algs as algs\n",
    "import pandas as pd\n",
    "import numpy as np\n",
    "import matplotlib.pyplot as plt"
   ]
  },
  {
   "cell_type": "markdown",
   "metadata": {},
   "source": [
    "# Functions"
   ]
  },
  {
   "cell_type": "code",
   "execution_count": 2,
   "metadata": {},
   "outputs": [],
   "source": [
    "sizes= [100, 200, 300, 400, 500, 600, 700, 800, 900, 1000]\n",
    "def gen_vectors(size, number):\n",
    "    vecList = []\n",
    "    for i in range(number):\n",
    "        vecList.append(np.random.rand(size))\n",
    "    return vecList   \n",
    "def run_alg(vec, alg):\n",
    "    if alg == 'bubble':\n",
    "        conds, assigns = algs.bubblesort(vec)[1:]\n",
    "    if alg == 'quick':\n",
    "        conds, assigns = algs.quicksort(vec)[1:]\n",
    "    if alg == 'insertion':\n",
    "        conds, assigns = algs.insertionsort(vec)[1:]\n",
    "        \n",
    "    return conds, assigns    \n",
    "def test_alg(sizes, number, alg):\n",
    "    results=[]\n",
    "    for i in sizes:\n",
    "        conds = []\n",
    "        assigns = []\n",
    "        vecList = gen_vectors(i, number)   \n",
    "        for vec in vecList:\n",
    "            out = run_alg(vec, alg)\n",
    "            conds.append(out[0])\n",
    "            assigns.append(out[1])\n",
    "        results.append([conds, assigns])        \n",
    "    return results  "
   ]
  },
  {
   "cell_type": "code",
   "execution_count": 3,
   "metadata": {},
   "outputs": [],
   "source": [
    "def plots(aDF, cDF):\n",
    "    s = np.array(sizes)\n",
    "    plt.subplot(2,1,1)\n",
    "    for c in aDF.columns:\n",
    "        plt.scatter(aDF.index, aDF[c], color = 'teal')\n",
    "        plt.plot(s, s**2, color = 'blue')\n",
    "        plt.plot(s, 0.25*s**2, color = 'lightblue')\n",
    "        plt.plot(s, s*np.log2(s), color = 'red')\n",
    "    plt.subplot(2,1,2)\n",
    "    for c in cDF.columns:\n",
    "        plt.scatter(cDF.index, cDF[c], color = 'magenta')\n",
    "        plt.plot(s, s**2, color = 'blue')\n",
    "        plt.plot(s, 0.25*s**2, color = 'lightblue')\n",
    "        plt.plot(s, s*np.log2(s), color = 'red')"
   ]
  },
  {
   "cell_type": "markdown",
   "metadata": {
    "heading_collapsed": true
   },
   "source": [
    "## Testing functions"
   ]
  },
  {
   "cell_type": "code",
   "execution_count": 6,
   "metadata": {
    "hidden": true
   },
   "outputs": [
    {
     "data": {
      "text/plain": [
       "[[1, 2, 3, 4], 0, 0]"
      ]
     },
     "execution_count": 6,
     "metadata": {},
     "output_type": "execute_result"
    }
   ],
   "source": [
    "algs.bubblesort(sz)"
   ]
  },
  {
   "cell_type": "code",
   "execution_count": 5,
   "metadata": {
    "hidden": true
   },
   "outputs": [],
   "source": [
    "sz = [1,2,3,4]\n",
    "out_b=test_alg(sz, 5, 'bubble')"
   ]
  },
  {
   "cell_type": "markdown",
   "metadata": {},
   "source": [
    "# Test and Plot"
   ]
  },
  {
   "cell_type": "code",
   "execution_count": 7,
   "metadata": {},
   "outputs": [],
   "source": [
    "out_i=test_alg(sizes, 100, 'insertion')\n"
   ]
  },
  {
   "cell_type": "code",
   "execution_count": 8,
   "metadata": {},
   "outputs": [],
   "source": [
    "out_i=np.array(out_i)\n",
    "conds_i=pd.DataFrame(out_i[:,0,:], index=sizes)\n",
    "assigns_i=pd.DataFrame(out_i[:,1,:], index=sizes)"
   ]
  },
  {
   "cell_type": "code",
   "execution_count": 9,
   "metadata": {},
   "outputs": [
    {
     "data": {
      "image/png": "[encoded data removed]",
      "text/plain": [
       "<Figure size 432x288 with 2 Axes>"
      ]
     },
     "metadata": {
      "needs_background": "light"
     },
     "output_type": "display_data"
    }
   ],
   "source": [
    "plots(assigns_i, conds_i)"
   ]
  },
  {
   "cell_type": "code",
   "execution_count": 10,
   "metadata": {},
   "outputs": [],
   "source": [
    "out_b=test_alg(sizes, 100, 'bubble')"
   ]
  },
  {
   "cell_type": "code",
   "execution_count": 11,
   "metadata": {},
   "outputs": [
    {
     "data": {
      "image/png": "[encoded data removed]",
      "text/plain": [
       "<Figure size 432x288 with 2 Axes>"
      ]
     },
     "metadata": {
      "needs_background": "light"
     },
     "output_type": "display_data"
    }
   ],
   "source": [
    "out_b=np.array(out_b)\n",
    "conds_b=pd.DataFrame(out_b[:,0,:], index=sizes)\n",
    "assigns_b=pd.DataFrame(out_b[:,1,:], index=sizes)\n",
    "plots(assigns_b, conds_b)"
   ]
  },
  {
   "cell_type": "code",
   "execution_count": 13,
   "metadata": {},
   "outputs": [],
   "source": [
    "out_q=test_alg(sizes, 100, 'quick')"
   ]
  },
  {
   "cell_type": "code",
   "execution_count": 14,
   "metadata": {},
   "outputs": [
    {
     "data": {
      "image/png": "[encoded data removed]",
      "text/plain": [
       "<Figure size 432x288 with 2 Axes>"
      ]
     },
     "metadata": {
      "needs_background": "light"
     },
     "output_type": "display_data"
    }
   ],
   "source": [
    "out_q=np.array(out_q)\n",
    "conds_q=pd.DataFrame(out_q[:,0,:], index=sizes)\n",
    "assigns_q=pd.DataFrame(out_q[:,1,:], index=sizes)\n",
    "plots(assigns_q, conds_q)"
   ]
  },
  {
   "cell_type": "code",
   "execution_count": null,
   "metadata": {},
   "outputs": [],
   "source": []
  }
 ],
 "metadata": {
  "kernelspec": {
   "display_name": "Python 3",
   "language": "python",
   "name": "python3"
  },
  "language_info": {
   "codemirror_mode": {
    "name": "ipython",
    "version": 3
   },
   "file_extension": ".py",
   "mimetype": "text/x-python",
   "name": "python",
   "nbconvert_exporter": "python",
   "pygments_lexer": "ipython3",
   "version": "3.7.4"
  },
  "toc": {
   "base_numbering": 1,
   "nav_menu": {},
   "number_sections": true,
   "sideBar": true,
   "skip_h1_title": false,
   "title_cell": "Table of Contents",
   "title_sidebar": "Contents",
   "toc_cell": false,
   "toc_position": {},
   "toc_section_display": true,
   "toc_window_display": false
  }
 },
 "nbformat": 4,
 "nbformat_minor": 2
}
